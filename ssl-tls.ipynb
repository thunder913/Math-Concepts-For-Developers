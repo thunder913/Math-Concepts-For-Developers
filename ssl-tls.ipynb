{
 "cells": [
  {
   "cell_type": "markdown",
   "id": "d362c8d0-1a58-4b26-83d2-9b4ad85e88ce",
   "metadata": {},
   "source": [
    "# SSL/TLS Protocols"
   ]
  },
  {
   "cell_type": "markdown",
   "id": "a979760e-6b5b-46d8-90f8-08e3abbc6f4d",
   "metadata": {},
   "source": [
    "#### by Andon Gorchov (@thunderman913)"
   ]
  },
  {
   "cell_type": "markdown",
   "id": "efc61655",
   "metadata": {},
   "source": [
    "## 1 Fundamentals of Cryptography"
   ]
  },
  {
   "cell_type": "markdown",
   "id": "f951b170",
   "metadata": {},
   "source": [
    "Cryptography is a technique of securing information and communications through the use of codes so that only those persons for whom the information is intended can understand and process it. Thus preventing unauthorized access to information. The prefix “crypt” means “hidden” and the suffix “graphy” means “writing”. In Cryptography, the techniques that are used to protect information are obtained from mathematical concepts and a set of rule-based calculations known as algorithms to convert messages in ways that make it hard to decode them. These algorithms are used for cryptographic key generation, digital signing, and verification to protect data privacy, web browsing on the internet and to protect confidential transactions such as credit card and debit card transactions. [1]\n",
    "\n",
    "It has the following features:\n",
    "- Confidentiality: The communicated information can only be accessed by the person for whom it is intended and nobody else should be able to access it.\n",
    "- Integrity: The received information must remain unaltered, accurate and exact.\n",
    "- Non-repudiation: After sending the message/information, the sender cannot revert it later on. That provides evidence of the communication and is crucial for situations, where accountability and legal disputes arise.\n",
    "- Authentication: This is a mechanism used to verify the identity of the user, system or entity.\n",
    "- Interoperability: It allows for secure communication between different systems and platforms.\n",
    "- Adaptability: Cryptography must continuously evolve and improve to stay ahead of any possible security threats, since one security breach could be fatal."
   ]
  },
  {
   "cell_type": "markdown",
   "id": "e333a380",
   "metadata": {},
   "source": [
    "### 1.1 Encryption Types\n",
    "\n",
    "- **Symmetric Encryption**\n",
    "\n",
    "Symmetric-key algorithms are algorithms for cryptography that use the same cryptographic keys for both the encryption of plaintext and the decryption of ciphertext. The keys may be identical, or there may be a simple transformation to go between the two keys. The keys, in practice, represent a shared secret between two or more parties that can be used to maintain a private information link. [2]\n",
    "\n",
    "<img src=\"./pictures/symmetric_encryption.png\" alt=\"drawing\" width=\"600\"/>\n",
    "\n",
    "- **Asymmetric Encryption**\n",
    "\n",
    "Asymmetric encryption, also known as public-key encryption, is the field of cryptographic systems that use pairs of related keys. Each key pair consists of a public key and a corresponding private key. Key pairs are generated with cryptographic algorithms based on mathematical problems termed one-way functions. Security of public-key cryptography depends on keeping the private key secret; the public key can be openly distributed without compromising security.\n",
    "\n",
    "In a public-key encryption system, anyone with a public key can encrypt a message, yielding a ciphertext, but only those who know the corresponding private key can decrypt the ciphertext to obtain the original message. [3]\n",
    "\n",
    "<img src=\"./pictures/asymmetric_encryption.png\" alt=\"drawing\" width=\"600\"/>"
   ]
  },
  {
   "cell_type": "markdown",
   "id": "17e8ef93",
   "metadata": {},
   "source": [
    "### 1.2 Key Concepts in Cryptography\n",
    "\n",
    "- **Key Exchange Mechanisms**\n",
    "\n",
    "Key exchange mechanisms are essential protocols or algorithms, that enable two or more parties to securely establish shared keys over an insecure communication channel like the internet. They allow entries to share secrets keys safely without the need to havae physically xchanged anything beforehand.\n",
    "\n",
    "One of the most popular mechanism is **Diffie-Hellman key exchange** as it is found in security protocols such as TLS, SSH and IPsec. To implement it, two end users (or client and server) mutually agree on positive whole numbers p and q, such that p is a prime number and q is a generator of p. The generator is a number that, when raised to positive whole-number less than p, never produces the same result for any two such whole numbers. p may be large, but q is usually small.\n",
    "Once the users have agreed on p and q in private, they choose positive whole-number personal keys a and b. Both must be less than the prime number modulus p. Next both parties compute public keys a* and b*, based on their personal keys:\n",
    "\n",
    "$$a^* = (q ^ a)\\mod p$$\n",
    "$$b^* = (q ^ b)\\mod p$$\n",
    "\n",
    "Then the users share the public keys a* and b* over the communication channel, thati s insecure. From these public keys, a number x can be generate by either user on the basis of their own personal keys. They use each others calculated number:\n",
    "\n",
    "$$ x = (b^*)\\mod p = (a^*)\\mod p$$\n",
    "\n",
    "That way both parties manage to get the same number, but it is not shared in the insecure environment and so are the private keys. Afterwards the users can safely communicate using encryption methods of their choise using the decryption key x.\n",
    "\n",
    "Although it seems, that the algorithm can be easily reversed, knowing q, p and a*, it is not that simple. In large numbers and especially, when p is large enough (like 2048 bits), then the brute force attack and other attack methods are not computionally feasible. That is because it should solve Discrete Lograrith Problem, for which there is currently no efficient algorithm.\n",
    "\n",
    "  - **Examples and Concepts**: Diffie-Hellman, ECDHE; these mechanisms are critical for secure communications and have specific security properties.\n",
    "    - Some information, what these mechanisms are and explain the algorithms\n",
    "    - https://en.wikipedia.org/wiki/Diffie%E2%80%93Hellman_key_exchange\n",
    "    - https://en.wikipedia.org/wiki/Elliptic-curve_Diffie%E2%80%93Hellman\n",
    "\n",
    "- **Cryptographic Hash Functions**\n",
    "  - **Usage**: Essential for ensuring data integrity.\n",
    "  - **Common algorithms**: Includes SHA-256, SHA-3, among others, known for their robustness and security.\n",
    "    - Go into algorithms like SHA-3 SHA-256 AND MD-5\n",
    "\n",
    "- **Digital Signatures**\n",
    "  - **Mechanisms for authentication and integrity**: Provides a means to verify the authenticity of digital messages or documents.\n",
    "  - **Algorithm examples and their operational mechanisms**: Detailed look into how these algorithms function and are applied in rea3-world scenarios."
   ]
  },
  {
   "cell_type": "code",
   "execution_count": 10,
   "id": "5c1e44a8",
   "metadata": {},
   "outputs": [
    {
     "name": "stdout",
     "output_type": "stream",
     "text": [
      "Number Is Not Prime, Please Enter Again!\n",
      "Number Is Not A Primitive Root Of 301, Please Try Again!\n",
      "Number Is Not A Primitive Root Of 301, Please Try Again!\n",
      "Number Is Not A Primitive Root Of 301, Please Try Again!\n",
      "Number Is Not A Primitive Root Of 301, Please Try Again!\n",
      "Number Is Not A Primitive Root Of 301, Please Try Again!\n",
      "Number Is Not A Primitive Root Of 301, Please Try Again!\n",
      "Number Is Not A Primitive Root Of 301, Please Try Again!\n",
      "Number Is Not A Primitive Root Of 301, Please Try Again!\n",
      "Number Is Not A Primitive Root Of 301, Please Try Again!\n",
      "Number Is Not A Primitive Root Of 301, Please Try Again!\n",
      "Number Is Not A Primitive Root Of 301, Please Try Again!\n",
      "Number Is Not A Primitive Root Of 301, Please Try Again!\n",
      "252\n",
      "259\n",
      "\n",
      "Secret Key For User 1 Is 259\n",
      "Secret Key For User 2 Is 259\n",
      "\n",
      "Keys Have Been Exchanged Successfully\n"
     ]
    }
   ],
   "source": [
    " # Diffie-Hellman Code\n",
    " \n",
    "def prime_checker(p):\n",
    "    # Checks If the number entered is a Prime Number or not\n",
    "    if p < 1:\n",
    "        return -1\n",
    "    elif p > 1:\n",
    "        if p == 2:\n",
    "            return 1\n",
    "        for i in range(2, p):\n",
    "            if p % i == 0:\n",
    "                return -1\n",
    "            return 1\n",
    " \n",
    " \n",
    "def primitive_check(g, p, L):\n",
    "    # Checks If The Entered Number Is A Primitive Root Or Not\n",
    "    for i in range(1, p):\n",
    "        L.append(pow(g, i) % p)\n",
    "    for i in range(1, p):\n",
    "        if L.count(i) > 1:\n",
    "            L.clear()\n",
    "            return -1\n",
    "        return 1\n",
    " \n",
    " \n",
    "l = []\n",
    "while 1:\n",
    "    P = int(input(\"Enter P : \"))\n",
    "    if prime_checker(P) == -1:\n",
    "        print(\"Number Is Not Prime, Please Enter Again!\")\n",
    "        continue\n",
    "    break\n",
    " \n",
    "while 1:\n",
    "    G = int(input(f\"Enter The Primitive Root Of {P} : \"))\n",
    "    if primitive_check(G, P, l) == -1:\n",
    "        print(f\"Number Is Not A Primitive Root Of {P}, Please Try Again!\")\n",
    "        continue\n",
    "    break\n",
    " \n",
    "# Private Keys\n",
    "x1, x2 = int(input(\"Enter The Private Key Of User 1 : \")), int(\n",
    "    input(\"Enter The Private Key Of User 2 : \"))\n",
    "while 1:\n",
    "    if x1 >= P or x2 >= P:\n",
    "        print(f\"Private Key Of Both The Users Should Be Less Than {P}!\")\n",
    "        continue\n",
    "    break\n",
    " \n",
    "# Calculate Public Keys\n",
    "y1, y2 = pow(G, x1) % P, pow(G, x2) % P\n",
    "\n",
    "print(y1)\n",
    "print(y2)\n",
    "\n",
    "# Generate Secret Keys\n",
    "k1, k2 = pow(y2, x1) % P, pow(y1, x2) % P\n",
    " \n",
    "print(f\"\\nSecret Key For User 1 Is {k1}\\nSecret Key For User 2 Is {k2}\\n\")\n",
    " \n",
    "if k1 == k2:\n",
    "    print(\"Keys Have Been Exchanged Successfully\")\n",
    "else:\n",
    "    print(\"Keys Have Not Been Exchanged Successfully\")"
   ]
  },
  {
   "cell_type": "markdown",
   "id": "3eeb5368",
   "metadata": {},
   "source": [
    "### 1.3 Principles of Secure Communications\n",
    "\n",
    "### 1.3.1 Cryptographic Protocols and Their Uses\n",
    "\n",
    "- **Overview**: Protocols such as TLS utilize the cryptographic tools described above to secure communications across networks.\n",
    "- **Real-world applications**: Necessity for secure communications is paramount in applications such as web browsing, secure file transfers, and email.\n",
    "\n",
    "### 1.3.2 Public Key Infrastructure (PKI)\n",
    "\n",
    "- **Role and structure**: Manages digital certificates and encryption keys to provide secure communications.\n",
    "- **Certificate Authorities (CA)**: Issues and manages security credentials and public keys for digital certificates.\n",
    "\n"
   ]
  },
  {
   "cell_type": "markdown",
   "id": "e1a326bf",
   "metadata": {},
   "source": [
    "# 2. SSL/TLS Protocol Analysis"
   ]
  },
  {
   "cell_type": "markdown",
   "id": "75290294",
   "metadata": {},
   "source": [
    "## 2.1 Overview of the SSL/TLS Protocol"
   ]
  },
  {
   "cell_type": "markdown",
   "id": "7d5c3b11",
   "metadata": {},
   "source": [
    "### 2.1.1 Protocol Structure and Layers\n",
    "\n",
    "- **Breakdown**: Detailed overview of the SSL/TLS protocol stack.\n",
    "- **Function and purpose of each layer**: Includes the Record Protocol, Handshake Protocol, among others.\n"
   ]
  },
  {
   "cell_type": "markdown",
   "id": "ff73d044",
   "metadata": {},
   "source": [
    "### 2.1.2 The SSL/TLS Handshake\n",
    "\n",
    "- **Detailed analysis of the handshake phases**:\n",
    "  - **ClientHello, ServerHello**: Initial communication stages where parameters are negotiated.\n",
    "  - **Server certificate and key exchange**: Server provides its certificate and optionally a key exchange method.\n",
    "  - **Client key exchange**: Client responds with its key exchange data.\n",
    "  - **Certificate verification**: Authentication of the server's certificate.\n",
    "  - **Completion of the handshake**: Change Cipher Spec and Finished messages finalize the secure connection setup."
   ]
  },
  {
   "cell_type": "markdown",
   "id": "3997d881",
   "metadata": {},
   "source": [
    "### 2.1.3 Session Establishment and Data Transmission\n",
    "\n",
    "- **Establishing a secure connection**: Process of using negotiated keys for a secure communication session.\n",
    "- **Symmetric key encryption for data transfer**: Mechanism to encrypt and decrypt messages using symmetric keys."
   ]
  },
  {
   "cell_type": "markdown",
   "id": "c0b340f9",
   "metadata": {},
   "source": [
    "## 2.2 Certificate Authorities and Trust Models"
   ]
  },
  {
   "cell_type": "markdown",
   "id": "30295fcb",
   "metadata": {},
   "source": [
    "\n",
    "### 2.2.1 Role of Certificate Authorities (CAs)\n",
    "- **Contribution to security in SSL/TLS**: How CAs underpin the trust model by issuing and managing digital certificates.\n"
   ]
  },
  {
   "cell_type": "markdown",
   "id": "87910368-4437-432c-b8a1-bfa3eb7dd809",
   "metadata": {},
   "source": [
    "### 2.2.2 Mathematical Models of Trust\n",
    "\n",
    "- **Algorithms used for verifying certificate authenticity**: Examination of the algorithms that ensure a certificate is valid and trustworthy.\n",
    "- **Analysis of trust models in digital communications**: Discuss how trust is established and maintained in cryptographic protocols.\n"
   ]
  },
  {
   "cell_type": "markdown",
   "id": "3460faba",
   "metadata": {},
   "source": [
    "# 3. Implementation and comparison"
   ]
  },
  {
   "cell_type": "markdown",
   "id": "f1cd7bf0",
   "metadata": {},
   "source": [
    "## 3.1 Using Existing Code Libraries\n",
    "\n",
    "- **Overview of SSL/TLS Libraries**: Description of commonly used libraries such as OpenSSL, BoringSSL, and others.\n",
    "- **Advantages of Using Libraries**: Discuss the benefits including reliability, community support, and compliance with standards.\n",
    "- **Integration Examples**: Show how these libraries can be integrated into existing projects.\n"
   ]
  },
  {
   "cell_type": "markdown",
   "id": "3f09bb65",
   "metadata": {},
   "source": [
    "## 3.2 Implementing Own SSL/TLS Components\n",
    "\n",
    "- **Challenges of Implementation**: Discuss the complexities involved in developing custom cryptographic protocols.\n",
    "- **Component Development**: Detailed process of developing key components such as encryption, key exchange, and certificate handling from scratch.\n"
   ]
  },
  {
   "cell_type": "markdown",
   "id": "395b84f3",
   "metadata": {},
   "source": [
    "## 3.3 Comparison Between Using Libraries and Custom Implementation\n",
    "\n",
    "- **Performance Analysis**: Compare the performance of existing libraries with the custom implementations in terms of speed and resource usage.\n",
    "- **Security Assessment**: Evaluate the security strengths and vulnerabilities of each approach.\n",
    "- **Use Case Suitability**: Analyze which approach is more suitable for different types of applications and environments.\n"
   ]
  },
  {
   "cell_type": "markdown",
   "id": "ad05b62d",
   "metadata": {},
   "source": [
    "# 4. Conclusion"
   ]
  },
  {
   "cell_type": "markdown",
   "id": "2e2fb355",
   "metadata": {},
   "source": [
    "# Bibliography\n",
    "\n",
    "\n",
    "1. https://www.geeksforgeeks.org/cryptography-and-its-types/\n",
    "2. https://en.wikipedia.org/wiki/Symmetric-key_algorithm\n",
    "3. https://en.wikipedia.org/wiki/Public-key_cryptography"
   ]
  },
  {
   "cell_type": "markdown",
   "id": "33d7f123",
   "metadata": {},
   "source": []
  }
 ],
 "metadata": {
  "kernelspec": {
   "display_name": "Python 3 (ipykernel)",
   "language": "python",
   "name": "python3"
  },
  "language_info": {
   "codemirror_mode": {
    "name": "ipython",
    "version": 3
   },
   "file_extension": ".py",
   "mimetype": "text/x-python",
   "name": "python",
   "nbconvert_exporter": "python",
   "pygments_lexer": "ipython3",
   "version": "3.11.7"
  }
 },
 "nbformat": 4,
 "nbformat_minor": 5
}
