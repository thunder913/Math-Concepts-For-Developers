{
 "cells": [
  {
   "cell_type": "code",
   "execution_count": 3,
   "id": "ca3e02dd",
   "metadata": {},
   "outputs": [],
   "source": [
    "import hashlib"
   ]
  },
  {
   "cell_type": "markdown",
   "id": "0b0b2cd0",
   "metadata": {},
   "source": [
    "# SSL/TLS Protocols"
   ]
  },
  {
   "cell_type": "markdown",
   "id": "a979760e-6b5b-46d8-90f8-08e3abbc6f4d",
   "metadata": {},
   "source": [
    "#### by Andon Gorchov (@thunderman913)"
   ]
  },
  {
   "cell_type": "markdown",
   "id": "efc61655",
   "metadata": {},
   "source": [
    "## 1 Fundamentals of Cryptography"
   ]
  },
  {
   "cell_type": "markdown",
   "id": "f951b170",
   "metadata": {},
   "source": [
    "Cryptography is a technique of securing information and communications through the use of codes so that only those persons for whom the information is intended can understand and process it. Thus preventing unauthorized access to information. The prefix “crypt” means “hidden” and the suffix “graphy” means “writing”. In Cryptography, the techniques that are used to protect information are obtained from mathematical concepts and a set of rule-based calculations known as algorithms to convert messages in ways that make it hard to decode them. These algorithms are used for cryptographic key generation, digital signing, and verification to protect data privacy, web browsing on the internet and to protect confidential transactions such as credit card and debit card transactions. [1]\n",
    "\n",
    "It has the following features:\n",
    "- Confidentiality: The communicated information can only be accessed by the person for whom it is intended and nobody else should be able to access it.\n",
    "- Integrity: The received information must remain unaltered, accurate and exact.\n",
    "- Non-repudiation: After sending the message/information, the sender cannot revert it later on. That provides evidence of the communication and is crucial for situations, where accountability and legal disputes arise.\n",
    "- Authentication: This is a mechanism used to verify the identity of the user, system or entity.\n",
    "- Interoperability: It allows for secure communication between different systems and platforms.\n",
    "- Adaptability: Cryptography must continuously evolve and improve to stay ahead of any possible security threats, since one security breach could be fatal."
   ]
  },
  {
   "cell_type": "markdown",
   "id": "e333a380",
   "metadata": {},
   "source": [
    "### 1.1 Encryption Types\n",
    "\n",
    "- **Symmetric Encryption**\n",
    "\n",
    "Symmetric-key algorithms are algorithms for cryptography that use the same cryptographic keys for both the encryption of plaintext and the decryption of ciphertext. The keys may be identical, or there may be a simple transformation to go between the two keys. The keys, in practice, represent a shared secret between two or more parties that can be used to maintain a private information link. [2]\n",
    "\n",
    "<img src=\"./pictures/symmetric_encryption.png\" alt=\"drawing\" width=\"600\"/>\n",
    "\n",
    "- **Asymmetric Encryption**\n",
    "\n",
    "Asymmetric encryption, also known as public-key encryption, is the field of cryptographic systems that use pairs of related keys. Each key pair consists of a public key and a corresponding private key. Key pairs are generated with cryptographic algorithms based on mathematical problems termed one-way functions. Security of public-key cryptography depends on keeping the private key secret; the public key can be openly distributed without compromising security.\n",
    "\n",
    "In a public-key encryption system, anyone with a public key can encrypt a message, yielding a ciphertext, but only those who know the corresponding private key can decrypt the ciphertext to obtain the original message. [3]\n",
    "\n",
    "<img src=\"./pictures/asymmetric_encryption.png\" alt=\"drawing\" width=\"600\"/>"
   ]
  },
  {
   "cell_type": "markdown",
   "id": "17e8ef93",
   "metadata": {},
   "source": [
    "### 1.2 Key Concepts in Cryptography"
   ]
  },
  {
   "cell_type": "markdown",
   "id": "c07302dd",
   "metadata": {},
   "source": [
    "- **Key Exchange Mechanisms**\n",
    "\n",
    "Key exchange mechanisms are essential protocols or algorithms, that enable two or more parties to securely establish shared keys over an insecure communication channel like the internet. They allow entries to share secrets keys safely without the need to havae physically xchanged anything beforehand.\n",
    "\n",
    "One of the most popular mechanism is **Diffie-Hellman key exchange** as it is found in security protocols such as TLS, SSH and IPsec. To implement it, two end users (or client and server) mutually agree on positive whole numbers p and q, such that p is a prime number and q is a generator of p. The generator is a number that, when raised to positive whole-number less than p, never produces the same result for any two such whole numbers. p may be large, but q is usually small.\n",
    "Once the users have agreed on p and q in private, they choose positive whole-number personal keys a and b. Both must be less than the prime number modulus p. Next both parties compute public keys a* and b*, based on their personal keys:\n",
    "\n",
    "$$a^* = (q ^ a)\\mod p$$\n",
    "$$b^* = (q ^ b)\\mod p$$\n",
    "\n",
    "Then the users share the public keys a* and b* over the communication channel, thati s insecure. From these public keys, a number x can be generate by either user on the basis of their own personal keys. They use each others calculated number:\n",
    "\n",
    "$$ x = (b^*)\\mod p = (a^*)\\mod p$$\n",
    "\n",
    "That way both parties manage to get the same number, but it is not shared in the insecure environment and so are the private keys. Afterwards the users can safely communicate using encryption methods of their choise using the decryption key x.\n",
    "\n",
    "Although it seems, that the algorithm can be easily reversed, knowing q, p and a*, it is not that simple. In large numbers and especially, when p is large enough (like 2048 bits), then the brute force attack and other attack methods are not computionally feasible. That is because it should solve Discrete Lograrith Problem, for which there is currently no efficient algorithm.\n",
    "\n",
    "An implementation of the Diffie-Hellman Algorithm, can be found in the diffie-hellman.ipynb file.\n",
    "\n",
    "TODO if have time -> go into RSA algorithm"
   ]
  },
  {
   "cell_type": "markdown",
   "id": "c1e8c878",
   "metadata": {},
   "source": [
    "- **Cryptographic Hash Functions**\n",
    "\n",
    "A cryptographic has function is a mathematical function used in cryptography. Typically they take inputs of variable lengths to return outputs of a fixed length. Each input should have a unique output. There are many different algorithms, but we will look into two of them - MD5, old and currently flagged as insecure and SHA-256, which is commonly used and marked as one of the best ones."
   ]
  },
  {
   "cell_type": "markdown",
   "id": "422b63ca",
   "metadata": {},
   "source": [
    "- MD5 \n",
    "\n",
    "MD5 takes the message as input of any length and changes it into a fixed-length message of 16 bytes. It was commonly used for authentication. Let's look into how the algorithm works.\n",
    "\n",
    "The first step of the algorithm is to add padding bits to the original message. The new length of the message should be 64 bits less than the exact multiple of 512, i.e. if we have 600 bits, we should add 360 bits, so that the length is 960, which is 1024 - 64. The added bits should be in the following order - the first is '1' and all the rest are zeroes.\n",
    "\n",
    "The next step is to add the length of the original message as 64-bit. For example if the length is 24, we would add 00000000 seven times and then 00011000 (24 in binary). This is performed to increase the complexity of the function.\n",
    "\n",
    "Then we initialize the 4 32-bit buffers, that are predefined in the MD5 algorithm. They are constant values, in order to ensure, that the starting point is always the same.\n",
    "\n",
    "$$J = 0x67425301$$\n",
    "$$K = 0xEDFCBA45$$\n",
    "$$L = 0x98CBADFE$$\n",
    "$$M = 0x13DCE476$$\n",
    "\n",
    "The final step is to process each 512-bit block. A total of 64 operations are performed in 4 rounds, each containing 16 operations. A different function is applied each round. For each function 3 of the above mentioned buffers are used. We update the buffers on each operation. Here are the functions, that are performed:\n",
    "\n",
    "\\begin{align*}\n",
    "    F(K, L, M) &= (K \\land L) \\lor (\\neg K \\land M) \\\\\n",
    "    G(K, L, M) &= (K \\land L) \\lor (L \\land \\neg M) \\\\\n",
    "    H(K, L, M) &= K \\oplus L \\oplus M \\\\\n",
    "    I(K, L, M) &= L \\oplus (K \\lor \\neg M)\n",
    "\\end{align*}\n",
    "\n",
    "Finally after performing all the operations, we concatenate all the newly created buffers, which are 4 byte each and we end up with 16 byte hash.\n",
    "\n",
    "After all MD5 seems like a good hashing algorithm, hard to crack, but there are a couple of disadvantages to it:\n",
    "- Sometimes MD5 generates the same hash function for different inputs, which makes it not collision resistant\n",
    "- MD5 allows for fast computation and that allows for easier and faster brute force attacks\n",
    "- There are many rainbow tables with billions of hashes, which makes the most commonly hashed values easily accessible to attackers\n",
    "\n",
    "TODO if have time investigate the disadvantages"
   ]
  },
  {
   "cell_type": "code",
   "execution_count": 14,
   "id": "5c1e44a8",
   "metadata": {},
   "outputs": [
    {
     "name": "stdout",
     "output_type": "stream",
     "text": [
      "Hash of the input string:\n",
      "3e25960a79dbc69b674cd4ec67a72c62\n"
     ]
    }
   ],
   "source": [
    "inputstring = \"Hello world\"\n",
    "output = hashlib.md5(inputstring.encode())\n",
    "\n",
    "print(\"Hash of the input string:\")\n",
    "print(output.hexdigest())"
   ]
  },
  {
   "cell_type": "markdown",
   "id": "547283e5",
   "metadata": {},
   "source": [
    "- SHA-256\n",
    "\n",
    "The SHA-256 algorithm plays a pivotal role in the modern digital security and data integrity. It produces a fixed-sized output of 32 bytes (256 bits). It's nature is very simillar to the MD5 algorithm, but uses more complex functions, more buffers and produces bigger result. That makes it's computation a bit slow, but it's security a lot higher.\n",
    "\n",
    "During the algorithms, first the initial hash value (buffers) must be initialized. They are with constant values:\n",
    "\n",
    "\\begin{align*}\n",
    "H_0 &= \\texttt{0x6a09e667} \\\\\n",
    "H_1 &= \\texttt{0xbb67ae85} \\\\\n",
    "H_2 &= \\texttt{0x3c6ef372} \\\\\n",
    "H_3 &= \\texttt{0xa54ff53a} \\\\\n",
    "H_4 &= \\texttt{0x510e527f} \\\\\n",
    "H_5 &= \\texttt{0x9b05688c} \\\\\n",
    "H_6 &= \\texttt{0x1f83d9ab} \\\\\n",
    "H_7 &= \\texttt{0x5be0cd19}\n",
    "\\end{align*}\n",
    "\n",
    "Then we prepare the initial input by appending '1' bit and then appending '0' bits until the message is 64 bits less than an exact multiple of 512. Finally simillar to the MD5, the length of the original message gets appended to the end as 64 bit integer.\n",
    "\n",
    "Afterwards simillar to MD5, we divide the message into 512-bit blocks and each of them is further divided into sixteen 32-bit words. Then comes the algorithm of SHA-256, which is a lot more complex than the one of MD5. More information on the complex algorithm can be found in [9].\n",
    "\n",
    "After the algorithm is finished, we concatenate all the buffers and end up with the final hashed product.\n"
   ]
  },
  {
   "cell_type": "code",
   "execution_count": 13,
   "id": "8523ae34",
   "metadata": {},
   "outputs": [
    {
     "name": "stdout",
     "output_type": "stream",
     "text": [
      "Hash of the input string:\n",
      "64ec88ca00b268e5ba1a35678a1b5316d212f4f366b2477232534a8aeca37f3c\n"
     ]
    }
   ],
   "source": [
    "inputstring = \"Hello world\"\n",
    "output = hashlib.sha256(inputstring.encode())\n",
    "\n",
    "print(\"Hash of the input string:\")\n",
    "print(output.hexdigest())"
   ]
  },
  {
   "cell_type": "markdown",
   "id": "569e803f",
   "metadata": {},
   "source": [
    "- **Digital Signatures**\n",
    "  - **Mechanisms for authentication and integrity**: Provides a means to verify the authenticity of digital messages or documents.\n",
    "  - **Algorithm examples and their operational mechanisms**: Detailed look into how these algorithms function and are applied in rea3-world scenarios."
   ]
  },
  {
   "cell_type": "markdown",
   "id": "3eeb5368",
   "metadata": {},
   "source": [
    "### 1.3 Principles of Secure Communications\n",
    "\n",
    "### 1.3.1 Cryptographic Protocols and Their Uses\n",
    "\n",
    "- **Overview**: Protocols such as TLS utilize the cryptographic tools described above to secure communications across networks.\n",
    "- **Real-world applications**: Necessity for secure communications is paramount in applications such as web browsing, secure file transfers, and email.\n",
    "\n",
    "### 1.3.2 Public Key Infrastructure (PKI)\n",
    "\n",
    "- **Role and structure**: Manages digital certificates and encryption keys to provide secure communications.\n",
    "- **Certificate Authorities (CA)**: Issues and manages security credentials and public keys for digital certificates.\n",
    "\n"
   ]
  },
  {
   "cell_type": "markdown",
   "id": "e1a326bf",
   "metadata": {},
   "source": [
    "# 2. SSL/TLS Protocol Analysis"
   ]
  },
  {
   "cell_type": "markdown",
   "id": "75290294",
   "metadata": {},
   "source": [
    "## 2.1 Overview of the SSL/TLS Protocol"
   ]
  },
  {
   "cell_type": "markdown",
   "id": "7d5c3b11",
   "metadata": {},
   "source": [
    "### 2.1.1 Protocol Structure and Layers\n",
    "\n",
    "- **Breakdown**: Detailed overview of the SSL/TLS protocol stack.\n",
    "- **Function and purpose of each layer**: Includes the Record Protocol, Handshake Protocol, among others.\n"
   ]
  },
  {
   "cell_type": "markdown",
   "id": "ff73d044",
   "metadata": {},
   "source": [
    "### 2.1.2 The SSL/TLS Handshake\n",
    "\n",
    "- **Detailed analysis of the handshake phases**:\n",
    "  - **ClientHello, ServerHello**: Initial communication stages where parameters are negotiated.\n",
    "  - **Server certificate and key exchange**: Server provides its certificate and optionally a key exchange method.\n",
    "  - **Client key exchange**: Client responds with its key exchange data.\n",
    "  - **Certificate verification**: Authentication of the server's certificate.\n",
    "  - **Completion of the handshake**: Change Cipher Spec and Finished messages finalize the secure connection setup."
   ]
  },
  {
   "cell_type": "markdown",
   "id": "3997d881",
   "metadata": {},
   "source": [
    "### 2.1.3 Session Establishment and Data Transmission\n",
    "\n",
    "- **Establishing a secure connection**: Process of using negotiated keys for a secure communication session.\n",
    "- **Symmetric key encryption for data transfer**: Mechanism to encrypt and decrypt messages using symmetric keys."
   ]
  },
  {
   "cell_type": "markdown",
   "id": "c0b340f9",
   "metadata": {},
   "source": [
    "## 2.2 Certificate Authorities and Trust Models"
   ]
  },
  {
   "cell_type": "markdown",
   "id": "30295fcb",
   "metadata": {},
   "source": [
    "\n",
    "### 2.2.1 Role of Certificate Authorities (CAs)\n",
    "- **Contribution to security in SSL/TLS**: How CAs underpin the trust model by issuing and managing digital certificates.\n"
   ]
  },
  {
   "cell_type": "markdown",
   "id": "87910368-4437-432c-b8a1-bfa3eb7dd809",
   "metadata": {},
   "source": [
    "### 2.2.2 Mathematical Models of Trust\n",
    "\n",
    "- **Algorithms used for verifying certificate authenticity**: Examination of the algorithms that ensure a certificate is valid and trustworthy.\n",
    "- **Analysis of trust models in digital communications**: Discuss how trust is established and maintained in cryptographic protocols.\n"
   ]
  },
  {
   "cell_type": "markdown",
   "id": "3460faba",
   "metadata": {},
   "source": [
    "# 3. Implementation and comparison"
   ]
  },
  {
   "cell_type": "markdown",
   "id": "f1cd7bf0",
   "metadata": {},
   "source": [
    "## 3.1 Using Existing Code Libraries\n",
    "\n",
    "- **Overview of SSL/TLS Libraries**: Description of commonly used libraries such as OpenSSL, BoringSSL, and others.\n",
    "- **Advantages of Using Libraries**: Discuss the benefits including reliability, community support, and compliance with standards.\n",
    "- **Integration Examples**: Show how these libraries can be integrated into existing projects.\n"
   ]
  },
  {
   "cell_type": "markdown",
   "id": "3f09bb65",
   "metadata": {},
   "source": [
    "## 3.2 Implementing Own SSL/TLS Components\n",
    "\n",
    "- **Challenges of Implementation**: Discuss the complexities involved in developing custom cryptographic protocols.\n",
    "- **Component Development**: Detailed process of developing key components such as encryption, key exchange, and certificate handling from scratch.\n"
   ]
  },
  {
   "cell_type": "markdown",
   "id": "395b84f3",
   "metadata": {},
   "source": [
    "## 3.3 Comparison Between Using Libraries and Custom Implementation\n",
    "\n",
    "- **Performance Analysis**: Compare the performance of existing libraries with the custom implementations in terms of speed and resource usage.\n",
    "- **Security Assessment**: Evaluate the security strengths and vulnerabilities of each approach.\n",
    "- **Use Case Suitability**: Analyze which approach is more suitable for different types of applications and environments.\n"
   ]
  },
  {
   "cell_type": "markdown",
   "id": "ad05b62d",
   "metadata": {},
   "source": [
    "# 4. Conclusion"
   ]
  },
  {
   "cell_type": "markdown",
   "id": "2e2fb355",
   "metadata": {},
   "source": [
    "# Bibliography\n",
    "\n",
    "\n",
    "1. https://www.geeksforgeeks.org/cryptography-and-its-types/\n",
    "2. https://en.wikipedia.org/wiki/Symmetric-key_algorithm\n",
    "3. https://en.wikipedia.org/wiki/Public-key_cryptography\n",
    "4. https://en.wikipedia.org/wiki/Diffie%E2%80%93Hellman_key_exchange\n",
    "5. https://en.wikipedia.org/wiki/Elliptic-curve_Diffie%E2%80%93Hellman\n",
    "6. https://www.tutorialspoint.com/cryptography/cryptography_hash_functions.htm\n",
    "7. https://www.geeksforgeeks.org/what-is-the-md5-algorithm/\n",
    "8. https://www.upgrad.com/blog/sha-256-algorithm/\n",
    "9. https://blog.boot.dev/cryptography/how-sha-2-works-step-by-step-sha-256/"
   ]
  },
  {
   "cell_type": "markdown",
   "id": "33d7f123",
   "metadata": {},
   "source": []
  }
 ],
 "metadata": {
  "kernelspec": {
   "display_name": "Python 3 (ipykernel)",
   "language": "python",
   "name": "python3"
  },
  "language_info": {
   "codemirror_mode": {
    "name": "ipython",
    "version": 3
   },
   "file_extension": ".py",
   "mimetype": "text/x-python",
   "name": "python",
   "nbconvert_exporter": "python",
   "pygments_lexer": "ipython3",
   "version": "3.11.7"
  }
 },
 "nbformat": 4,
 "nbformat_minor": 5
}
