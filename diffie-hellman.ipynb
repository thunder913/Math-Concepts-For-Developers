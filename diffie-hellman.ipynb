{
 "cells": [
  {
   "cell_type": "markdown",
   "metadata": {},
   "source": [
    "# Diffie-Hellman Example\n"
   ]
  },
  {
   "cell_type": "code",
   "execution_count": null,
   "metadata": {},
   "outputs": [],
   "source": [
    "def prime_checker(p):\n",
    "    # Checks If the number entered is a Prime Number or not\n",
    "    if p < 1:\n",
    "        return -1\n",
    "    elif p > 1:\n",
    "        if p == 2:\n",
    "            return 1\n",
    "        for i in range(2, p):\n",
    "            if p % i == 0:\n",
    "                return -1\n",
    "            return 1\n",
    " \n",
    " \n",
    "def primitive_check(g, p, L):\n",
    "    # Checks If The Entered Number Is A Primitive Root Or Not\n",
    "    for i in range(1, p):\n",
    "        L.append(pow(g, i) % p)\n",
    "    for i in range(1, p):\n",
    "        if L.count(i) > 1:\n",
    "            L.clear()\n",
    "            return -1\n",
    "        return 1\n",
    " \n",
    " \n",
    "l = []\n",
    "while 1:\n",
    "    P = int(input(\"Enter P : \"))\n",
    "    if prime_checker(P) == -1:\n",
    "        print(\"Number Is Not Prime, Please Enter Again!\")\n",
    "        continue\n",
    "    break\n",
    " \n",
    "while 1:\n",
    "    G = int(input(f\"Enter The Primitive Root Of {P} : \"))\n",
    "    if primitive_check(G, P, l) == -1:\n",
    "        print(f\"Number Is Not A Primitive Root Of {P}, Please Try Again!\")\n",
    "        continue\n",
    "    break\n",
    " \n",
    "# Private Keys\n",
    "x1, x2 = int(input(\"Enter The Private Key Of User 1 : \")), int(\n",
    "    input(\"Enter The Private Key Of User 2 : \"))\n",
    "while 1:\n",
    "    if x1 >= P or x2 >= P:\n",
    "        print(f\"Private Key Of Both The Users Should Be Less Than {P}!\")\n",
    "        continue\n",
    "    break\n",
    " \n",
    "# Calculate Public Keys\n",
    "y1, y2 = pow(G, x1) % P, pow(G, x2) % P\n",
    " \n",
    "# Generate Secret Keys\n",
    "k1, k2 = pow(y2, x1) % P, pow(y1, x2) % P\n",
    " \n",
    "print(f\"\\nSecret Key For User 1 Is {k1}\\nSecret Key For User 2 Is {k2}\\n\")\n",
    " \n",
    "if k1 == k2:\n",
    "    print(\"Keys Have Been Exchanged Successfully\")\n",
    "else:\n",
    "    print(\"Keys Have Not Been Exchanged Successfully\")"
   ]
  }
 ],
 "metadata": {
  "kernelspec": {
   "display_name": "base",
   "language": "python",
   "name": "python3"
  },
  "language_info": {
   "codemirror_mode": {
    "name": "ipython",
    "version": 3
   },
   "file_extension": ".py",
   "mimetype": "text/x-python",
   "name": "python",
   "nbconvert_exporter": "python",
   "pygments_lexer": "ipython3",
   "version": "3.11.7"
  }
 },
 "nbformat": 4,
 "nbformat_minor": 2
}
