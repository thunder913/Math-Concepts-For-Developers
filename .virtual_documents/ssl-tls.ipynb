import base64
import json
import os
import socket
import ssl
import threading
import time
from dataclasses import dataclass, asdict
from enum import Enum
from uuid import uuid4

from cryptography.hazmat.backends import default_backend
from cryptography.hazmat.primitives import serialization, hashes
from cryptography.hazmat.primitives.asymmetric import rsa, dh
from cryptography.hazmat.primitives.ciphers.aead import AESGCM
from cryptography.hazmat.primitives.kdf.hkdf import HKDF
from cryptography.hazmat.primitives.serialization import (
    load_pem_public_key,
    PublicFormat,
    Encoding
)
































inputstring = "Hello world"
output = hashlib.md5(inputstring.encode())

print("Hash of the input string:")
print(output.hexdigest())





inputstring = "Hello world"
output = hashlib.sha256(inputstring.encode())

print("Hash of the input string:")
print(output.hexdigest())
























































def create_server(max_connections=5):
    context = ssl.SSLContext(ssl.PROTOCOL_TLS_SERVER)
    context.load_cert_chain(certfile='tls_certificates/server.crt', keyfile='tls_certificates/server.key')
    context.load_verify_locations('tls_certificates/client.crt')
    context.verify_mode = ssl.CERT_REQUIRED

    with socket.socket(socket.AF_INET, socket.SOCK_STREAM, 0) as sock:
        sock.bind(('127.0.0.1', 4433))
        sock.listen(5)
        with context.wrap_socket(sock, server_side=True) as ssock:
            connection_count = 0
            while connection_count < max_connections:
                conn, addr = ssock.accept()
                with conn:
                    print(f"Server got connected by {addr}")
                    while True:
                        data = conn.recv(1024)
                        if not data:
                            break
                        decodedData = data.decode('utf-8')
                        print(f"Server Received: {decodedData}")
                        message = decodedData.strip().lower()
                        print(f"Server Sent: {message}")
                        conn.sendall(data)
                        if message == "shutdown":
                            print("Shutdown command received. Shutting down server.")
                            return
                connection_count += 1
            print("Max connections reached, server shutting down.")






def create_client():
    context = ssl.create_default_context(ssl.Purpose.SERVER_AUTH)
    context.load_cert_chain('tls_certificates/client.crt', 'tls_certificates/client.key')
    context.check_hostname = False
    context.verify_mode = ssl.CERT_REQUIRED
    context.load_verify_locations('tls_certificates/server.crt')

    with socket.create_connection(('127.0.0.1', 4433)) as sock:
        with context.wrap_socket(sock, server_hostname='127.0.0.1') as ssock:
            messages = [b"Hello, TLS!", b"Another encrypted message", b"shutdown"]
            for msg in messages:
                ssock.sendall(msg)
                print(f"Client Sent: {msg.decode('utf-8')}")
                response = ssock.recv(1024).decode('utf-8')
                print(f"Client Received: {response}")
                if msg == b"shutdown":
                    print("Client sent shutdown command. Exiting.")
                    break






server_thread = threading.Thread(target=create_server)
server_thread.start()

# Wait for the server to be ready
time.sleep(1)

create_client()

server_thread.join()








def generate_and_save_rsa_keys(private_key_file='tls_certificates/rsa_keys/private_key.pem', public_key_file='tls_certificates/rsa_keys/public_key.pem'):
    # Generate RSA private and public keys
    private_key = rsa.generate_private_key(
        public_exponent=65537,
        key_size=2048,
        backend=default_backend()
    )
    public_key = private_key.public_key()

    # Save the private key to a file without encryption
    with open(private_key_file, "wb") as key_file:
        key_file.write(
            private_key.private_bytes(
                encoding=serialization.Encoding.PEM,
                format=serialization.PrivateFormat.TraditionalOpenSSL,
                encryption_algorithm=serialization.NoEncryption()
            )
        )

    # Save the public key to a file
    with open(public_key_file, "wb") as key_file:
        key_file.write(
            public_key.public_bytes(
                encoding=serialization.Encoding.PEM,
                format=serialization.PublicFormat.SubjectPublicKeyInfo
            )
        )

def load_rsa_private_key(private_key_file='tls_certificates/rsa_keys/private_key.pem'):
    # Load the private key from a file
    with open(private_key_file, "rb") as key_file:
        private_key = serialization.load_pem_private_key(
            key_file.read(),
            password=None,
            backend=default_backend()
        )

    return private_key

# Call the function to generate and save the keys
generate_and_save_rsa_keys()


parameters = dh.generate_parameters(generator=2, key_size=2048, backend=default_backend())

def create_dh_keys():
    """
    Generate DH parameters and keys for two entities using the same parameters.

    :return: A tuple containing both private key and public key.
    """

    private_key = parameters.generate_private_key()

    # Extract public keys from the private keys
    public_key = private_key.public_key()

    return private_key, public_key


def generate_random_bytes(n):
    return os.urandom(n)

@dataclass
class ServerHello:
    version: str
    random: str
    cipher_suite: str
    compression_method: str
    extensions: dict
    server_public_key: str
    server_hello_done: bool
    signature: str

    @classmethod
    def from_dict(cls, data):
        return cls(**data)
    
    def to_dict(self):
        return asdict(self)

@dataclass
class ClientHello:
    version: str
    random: str
    cipher_suites: list
    compression_methods: str
    extensions: dict

    @classmethod
    def from_dict(cls, data):
        return cls(**data)
    
    def to_dict(self):
        return asdict(self)

@dataclass
class Message:
    session_id: str
    payload: any

    @classmethod
    def from_dict(cls, data):
        return cls(**data)
    
    def to_dict(self):
        return asdict(self)


class CipherSuites(Enum):
    TLS_DH_RSA_WITH_AES_256_GCM_SHA256 = 0x0000
    TLS_DH_RSA_WITH_AES_256_CBC_SHA256 = 0x0001

    def __str__(self):
        return '%s' % self.value

def select_preferred_ciphersuite(client_supported, server_supported):

    for i in server_supported:
        assert isinstance(i, CipherSuites)
        if i.value in client_supported:
            return i
        
    return None


def public_key_to_pem(public_key):
    pem = public_key.public_bytes(
        encoding=serialization.Encoding.PEM,
        format=serialization.PublicFormat.SubjectPublicKeyInfo
    )
    return pem.decode('utf-8')

def encrypt_message_gcm(aesgcm, message):
    iv = os.urandom(12) 
    encrypted_message = aesgcm.encrypt(iv, message, None)
    return iv + encrypted_message

def decrypt_message_gcm(aesgcm, encrypted_data):
    iv = encrypted_data[:12]
    ciphertext_tag = encrypted_data[12:]
    decrypted_message = aesgcm.decrypt(iv, ciphertext_tag, None)
    return decrypted_message.decode()

def send_encrypted_message(encryption_method, encryption_key, message, socket, session_id, source):
    """
    Encrypts a message and sends it through a socket.

    Args:
        encryption_method: The name of the encryption method used
        encryption_key: The key used for encryption
        message: The message to be encrypted and sent (bytes).
        socket: The socket through which the message is to be sent.
    """

    if encryption_method == CipherSuites.TLS_DH_RSA_WITH_AES_256_GCM_SHA256:
        aesgcm = AESGCM(encryption_key)
        encrypted_message = encrypt_message_gcm(aesgcm, message)
        base64_message = base64.b64encode(encrypted_message).decode('utf-8')

        message_to_send = Message(session_id, base64_message)
        print(source, ' sent: ', message_to_send)
        socket.sendall(json.dumps(message_to_send.to_dict()).encode())

def receive_encrypted_message(encryption_method, encryption_key, socket):
    """
    Receives an encrypted message through a socket, decrypts it, and returns the decrypted message.

    Args:
        encryption_method: The name of the encryption method used.
        encryption_key: The key used for decryption.
        socket: The socket from which the message is to be received.

    Returns:
        The decrypted message.
    """

    # Extract the cipher suite in the 
    encrypted_message = socket.recv(1024)
    if encryption_method == CipherSuites.TLS_DH_RSA_WITH_AES_256_GCM_SHA256:
        aesgcm = AESGCM(encryption_key)

        message_received = Message.from_dict(json.loads(encrypted_message))
        message_received.payload = decrypt_message_gcm(aesgcm, base64.b64decode(message_received.payload))
        return message_received
    
def derive_key(private_key, public_key, algorithm=hashes.SHA256(), length=32, salt=None, info=b'handshake data'):
    """
    Derives a key from a shared secret using the HKDF algorithm.

    Args:
        private_key: The private key.
        public_key: The public key of the other side.
        algorithm: The hash algorithm to use with HKDF.
        length: The length of the derived key in bytes.
        salt: Optional salt used in the derivation (None means no salt).
        info: Optional context and application specific information.

    Returns:
        The derived key.
    """

    shared_secret = private_key.exchange(public_key)
    return HKDF(
        algorithm=algorithm,
        length=length,
        salt=salt,
        info=info,
        backend=default_backend()
    ).derive(shared_secret)

def decrypt_message(encryption_method, encryption_key, encrypted_message):
    if encryption_method == CipherSuites.TLS_DH_RSA_WITH_AES_256_GCM_SHA256:
        aesgcm = AESGCM(encryption_key)
        decrypted_message = decrypt_message_gcm(aesgcm, base64.b64decode(encrypted_message))
        return decrypted_message


def handle_handshake(client_socket, message_received, server_cipher_suites, session_ids):
    # Begin handshake
    client_hello_parsed = ClientHello.from_dict(message_received.payload)

    # Perform check for every supported cipher suite
    
    preferred_cipher_suite = select_preferred_ciphersuite(client_hello_parsed.cipher_suites, server_cipher_suites)
    if preferred_cipher_suite is None:
        client_socket.sendall(b"No supported cipher suite")
    else:
        server_private_key, server_public_key = create_dh_keys()
        
        rsa_key = load_rsa_private_key()
            
        pem = rsa_key.public_key().public_bytes(
            encoding=serialization.Encoding.PEM,
            format=serialization.PublicFormat.SubjectPublicKeyInfo
        )
        # Encode PEM to base64 to simplify JSON encoding
        base64_pem = base64.b64encode(pem).decode('utf-8')

        current_session_id = str(uuid4())
        server_hello = ServerHello(
            version="TLS 1.2",
            random=generate_random_bytes(28).hex(),
            cipher_suite=preferred_cipher_suite.value,
            compression_method="None",
            extensions={"Server Name": "example.com"},
            server_public_key=public_key_to_pem(server_public_key),
            server_hello_done=True,
            signature=base64_pem
        )

        # Send the server hello
        server_hello_as_message = Message(current_session_id, server_hello)
        print('Server Hello Sent ', server_hello_as_message)
        client_socket.sendall(json.dumps(server_hello_as_message.to_dict()).encode())

        # Expect the client response and read the public key
        client_response = client_socket.recv(4096).decode()
        print('Server received:', client_response)
        client_hello_as_message = Message.from_dict(json.loads(client_response))
        client_public_key = load_pem_public_key(client_hello_as_message.payload.encode('utf-8'))

        # DH key used in the encryption process
        derived_key = derive_key(server_private_key, client_public_key)
        
        client_finished = receive_encrypted_message(preferred_cipher_suite, derived_key, client_socket)
        print("Server Received:", client_finished)
        
        # Finished == successful handshake and server sends Finished as well
        if(client_finished.payload == 'Finished'):
            session_ids[current_session_id] = {'key': derived_key, 'cipher_suite': preferred_cipher_suite}
            send_encrypted_message(preferred_cipher_suite, derived_key, b"Finished", client_socket, current_session_id, server_name)
            #break


def communicate_with_server(message, session_id, cipher_suite, derived_key, client_name, receive_response=True):
    """
    Opens a socket connection to the server, sends an encrypted message, and optionally receives a response.
    
    Args:
    message (bytes): Message to be sent to the server.
    session_id (str): Current session ID for the communication.
    cipher_suite (Enum): Cipher suite to be used for encryption.
    derived_key (bytes): Key used for encryption.
    client_name (str): Name of the client.
    receive_response (bool): Flag to indicate whether a response should be received.

    Returns:
    str: The server's response if receive_response is True, otherwise None.
    """
    client_socket = socket.socket(socket.AF_INET, socket.SOCK_STREAM)
    client_socket.connect(('127.0.0.1', 4439))
    send_encrypted_message(cipher_suite, derived_key, message, client_socket, session_id, client_name)
    
    response = None
    if receive_response:
        response = client_socket.recv(4096).decode()
        print('Server responded with ', response)
    
    client_socket.close()
    return response


server_name = 'Server'

def generate_random_bytes(n=32):
    return os.urandom(n)

def generate_dh_parameters():
    return dh.generate_parameters(generator=2, key_size=2048)

def generate_dh_private_key(parameters):
    return parameters.generate_private_key()

def serialize_public_key(key):
    return key.public_bytes(Encoding.PEM, PublicFormat.SubjectPublicKeyInfo).decode('utf-8')

def server():
    server_cipher_suites = [
        CipherSuites.TLS_DH_RSA_WITH_AES_256_CBC_SHA256,
        CipherSuites.TLS_DH_RSA_WITH_AES_256_GCM_SHA256
        ]
    server_socket = socket.socket(socket.AF_INET, socket.SOCK_STREAM)
    server_socket.bind(('127.0.0.1', 4439))
    server_socket.listen(1)
    session_ids = {}
    
    while True:
        client_socket, _ = server_socket.accept()
        try:
            # Receive initial data and deserialize it to message_received
            data = client_socket.recv(4096)
            print('Server Received', data)
            data_received = json.loads(data.decode())
            message_received = Message.from_dict(data_received)

            # Based on the session id figure out what to do
            session_id = message_received.session_id
            if(session_id and session_id not in session_ids):
                # If client sent session_id, but it isn't existing
                client_socket.sendall(b"Invalid session id")

            elif(session_id and session_id in session_ids):
                # session_id is found and the message gets decrypted
                cipher_suite = session_ids[session_id]['cipher_suite']
                shared_key = session_ids[session_id]['key']

                decrypted_message = decrypt_message(cipher_suite, shared_key, message_received.payload)
                print('Server Decryped: ', decrypted_message)
                if(decrypted_message == 'shutdown'):
                    client_socket.sendall(b"shutdown")
                    client_socket.close()
                    session_ids.pop(session_id)
                    break

                send_encrypted_message(cipher_suite, shared_key, b"Ok", client_socket, session_id, server_name)
            else:
                handle_handshake(client_socket, message_received, server_cipher_suites, session_ids)
        finally:
            print('Server: Closing client socket')
            client_socket.close()

    server_socket.close()


def serialize_public_key(key):
    return key.public_bytes(Encoding.PEM, PublicFormat.SubjectPublicKeyInfo).decode('utf-8')

def client(send_shutdown = False):
    client_name = 'Client'
    client_socket = socket.socket(socket.AF_INET, socket.SOCK_STREAM)
    client_socket.connect(('127.0.0.1', 4439))

    cipher_suite =  CipherSuites.TLS_DH_RSA_WITH_AES_256_GCM_SHA256
    client_hello = ClientHello(
        version="TLS 1.2",
        random=os.urandom(32).hex(),
        cipher_suites=[cipher_suite.value],
        compression_methods="None",
        extensions={
            "Server Name": "testserver.com",
            "Signature Algorithms": ["SHA256withRSA"]
        }
    )

    print('Client sent: ', client_hello)
    client_hello_as_message = Message("", client_hello)
    client_socket.sendall(json.dumps(client_hello_as_message.to_dict()).encode())

    # Expect the server hello
    response = json.loads(client_socket.recv(4096).decode())
    server_hello_loaded = Message.from_dict(response)
    print('Client received: ', server_hello_loaded)
    session_id = server_hello_loaded.session_id
    
    # Calculate the derived key using DH
    client_private_key, client_public_key = create_dh_keys()
    server_hello_payload = ServerHello.from_dict(server_hello_loaded.payload)
    server_public_key = load_pem_public_key(server_hello_payload.server_public_key.encode('utf-8'))
    derived_key = derive_key(client_private_key, server_public_key)

    client_socket.sendall(json.dumps(Message(session_id, public_key_to_pem(client_public_key)).to_dict()).encode())

    # Send client finished message
    send_encrypted_message(cipher_suite, derived_key, b"Finished", client_socket, session_id, client_name)

    server_finished = receive_encrypted_message(cipher_suite, derived_key, client_socket)
    print("Client Received:", server_finished)

    client_socket.close()

    communicate_with_server(b"tst1", session_id, cipher_suite, derived_key, client_name)
    communicate_with_server(b"tst2", session_id, cipher_suite, derived_key, client_name)

    # Send shutdown command and handle response
    if(send_shutdown):
        final_response = communicate_with_server(b"shutdown", session_id, cipher_suite, derived_key, client_name)
        print('Final Server Response: ', final_response)
    client_socket.close()


server_thread = threading.Thread(target=server)
server_thread.start()

client_thread = threading.Thread(target=client)
client_thread.start()

time.sleep(3)

new_client_thread = threading.Thread(target=client(True))
new_client_thread.start()

new_client_thread.join()












