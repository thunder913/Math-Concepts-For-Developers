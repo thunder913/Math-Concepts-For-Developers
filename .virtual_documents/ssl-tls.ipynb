import hashlib
import socket
import ssl
import threading
import time
































inputstring = "Hello world"
output = hashlib.md5(inputstring.encode())

print("Hash of the input string:")
print(output.hexdigest())





inputstring = "Hello world"
output = hashlib.sha256(inputstring.encode())

print("Hash of the input string:")
print(output.hexdigest())
























































def create_server(max_connections=5):
    context = ssl.SSLContext(ssl.PROTOCOL_TLS_SERVER)
    context.load_cert_chain(certfile='tls_certificates/server.crt', keyfile='tls_certificates/server.key')
    context.load_verify_locations('tls_certificates/client.crt')
    context.verify_mode = ssl.CERT_REQUIRED

    with socket.socket(socket.AF_INET, socket.SOCK_STREAM, 0) as sock:
        sock.bind(('127.0.0.1', 4433))
        sock.listen(5)
        with context.wrap_socket(sock, server_side=True) as ssock:
            connection_count = 0
            while connection_count < max_connections:
                conn, addr = ssock.accept()
                with conn:
                    print(f"Server got connected by {addr}")
                    while True:
                        data = conn.recv(1024)
                        if not data:
                            break
                        decodedData = data.decode('utf-8')
                        print(f"Server Received: {decodedData}")
                        message = decodedData.strip().lower()
                        print(f"Server Sent: {message}")
                        conn.sendall(data)
                        if message == "shutdown":
                            print("Shutdown command received. Shutting down server.")
                            return
                connection_count += 1
            print("Max connections reached, server shutting down.")






def create_client():
    context = ssl.create_default_context(ssl.Purpose.SERVER_AUTH)
    context.load_cert_chain('tls_certificates/client.crt', 'tls_certificates/client.key')
    context.check_hostname = False
    context.verify_mode = ssl.CERT_REQUIRED
    context.load_verify_locations('tls_certificates/server.crt')

    with socket.create_connection(('127.0.0.1', 4433)) as sock:
        with context.wrap_socket(sock, server_hostname='127.0.0.1') as ssock:
            messages = [b"Hello, TLS!", b"Another encrypted message", b"shutdown"]
            for msg in messages:
                ssock.sendall(msg)
                print(f"Client Sent: {msg.decode('utf-8')}")
                response = ssock.recv(1024).decode('utf-8')
                print(f"Client Received: {response}")
                if msg == b"shutdown":
                    print("Client sent shutdown command. Exiting.")
                    break






server_thread = threading.Thread(target=create_server)
server_thread.start()

# Wait for the server to be ready
time.sleep(1)

create_client()

server_thread.join()


















